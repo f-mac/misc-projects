{
 "cells": [
  {
   "cell_type": "markdown",
   "metadata": {
    "collapsed": true
   },
   "source": [
    "# Working with natural language tools to explore eBook texts\n",
    "\n",
    "Initial work based on project found here: https://danieljohndavis.github.io/word-frequency.html"
   ]
  },
  {
   "cell_type": "code",
   "execution_count": 18,
   "metadata": {
    "collapsed": false
   },
   "outputs": [
    {
     "name": "stdout",
     "output_type": "stream",
     "text": [
      "Paste HTM link from Project Gutenberg (uses TCOMC if left blank):\n",
      "﻿<?xml version=\"1.0\" encoding=\"utf-8\"?>\n",
      "\n",
      "<!DOCTYPE html\n",
      "   PUBLIC \"-//W3C//DTD XHTML 1.0 Strict//\n"
     ]
    }
   ],
   "source": [
    "import requests\n",
    "import nltk\n",
    "from bs4 import BeautifulSoup\n",
    "\n",
    "# Prompt for eBook link\n",
    "# The Count of Monte Cristo link is 'https://www.gutenberg.org/files/1184/1184-h/1184-h.htm'\n",
    "try:\n",
    "    r = requests.get(input('Paste HTM link from Project Gutenberg (uses TCOMC if left blank):'))\n",
    "except:\n",
    "    r = requests.get('https://www.gutenberg.org/files/1184/1184-h/1184-h.htm')\n",
    "\n",
    "# set encoding\n",
    "r.encoding = 'utf-8'\n",
    "\n",
    "# extract html\n",
    "html = r.text\n",
    "\n",
    "# test with a print\n",
    "print(html[0:100])"
   ]
  },
  {
   "cell_type": "code",
   "execution_count": 16,
   "metadata": {
    "collapsed": false
   },
   "outputs": [
    {
     "name": "stdout",
     "output_type": "stream",
     "text": [
      "\r\n",
      "    \n",
      "\r\n",
      "      “No. I gave the custom-house officers a copy of our bill of lading;\r\n",
      "      and as to \n"
     ]
    }
   ],
   "source": [
    "# getting soupy\n",
    "soup = BeautifulSoup(html, 'html.parser')\n",
    "\n",
    "# gimme that text\n",
    "text = soup.get_text()\n",
    "\n",
    "# test print of text\n",
    "print(text[20000:20100])"
   ]
  },
  {
   "cell_type": "code",
   "execution_count": 17,
   "metadata": {
    "collapsed": false,
    "scrolled": true
   },
   "outputs": [
    {
     "name": "stdout",
     "output_type": "stream",
     "text": [
      "['The', 'Count', 'of', 'Monte', 'Cristo', 'by', 'Alexandre', 'Dumas', 'père', 'body', 'margin']\n"
     ]
    }
   ],
   "source": [
    "# tokenizer\n",
    "tokenizer = nltk.tokenize.RegexpTokenizer('\\w+')\n",
    "\n",
    "# tokenize text\n",
    "tokens = tokenizer.tokenize(text)\n",
    "\n",
    "# print some tokens\n",
    "print(tokens[:11])"
   ]
  },
  {
   "cell_type": "code",
   "execution_count": 4,
   "metadata": {
    "collapsed": false
   },
   "outputs": [
    {
     "name": "stdout",
     "output_type": "stream",
     "text": [
      "['the', 'project', 'gutenberg', 'e', 'text', 'of', 'the', 'picture', 'of', 'dorian', 'gray']\n"
     ]
    }
   ],
   "source": [
    "# force lower on all words so capitalization isn't treated as unique\n",
    "words = []\n",
    "\n",
    "for word in tokens:\n",
    "    words.append(word.lower())\n",
    "\n",
    "print(words[0:11])\n"
   ]
  },
  {
   "cell_type": "code",
   "execution_count": 5,
   "metadata": {
    "collapsed": false
   },
   "outputs": [
    {
     "name": "stdout",
     "output_type": "stream",
     "text": [
      "['i', 'me', 'my', 'myself', 'we', 'our', 'ours', 'ourselves', 'you', \"you're\", \"you've\"]\n"
     ]
    }
   ],
   "source": [
    "#nltk.download() -- didn't need to do this, turns out. upgraded anaconda\n",
    "\n",
    "# remove stop words using built-in functionality of nltk. came back and added 'said'\n",
    "sw = nltk.corpus.stopwords.words('english')\n",
    "addl_sw = ['said']\n",
    "sw.extend(addl_sw)\n",
    "\n",
    "print(sw[0:11])"
   ]
  },
  {
   "cell_type": "code",
   "execution_count": 6,
   "metadata": {
    "collapsed": false
   },
   "outputs": [
    {
     "name": "stdout",
     "output_type": "stream",
     "text": [
      "['project', 'gutenberg', 'e', 'text', 'picture', 'dorian', 'gray', 'oscar', 'wilde', 'body', 'color']\n"
     ]
    }
   ],
   "source": [
    "# get list of words without stop words or use words\n",
    "\n",
    "use_words = [word for word in words if word not in sw]\n",
    "\n",
    "print(use_words[:11])"
   ]
  },
  {
   "cell_type": "code",
   "execution_count": 7,
   "metadata": {
    "collapsed": false
   },
   "outputs": [
    {
     "data": {
      "image/png": "[encoded data removed]",
      "text/plain": [
       "<matplotlib.figure.Figure at 0x1150cad68>"
      ]
     },
     "metadata": {},
     "output_type": "display_data"
    }
   ],
   "source": [
    "# sweet pretty sure we're good to go. let's check out distribution\n",
    "\n",
    "%matplotlib inline\n",
    "\n",
    "freqdist = nltk.FreqDist(use_words)\n",
    "\n",
    "freqdist.plot(25)"
   ]
  },
  {
   "cell_type": "code",
   "execution_count": 8,
   "metadata": {
    "collapsed": false,
    "scrolled": false
   },
   "outputs": [
    {
     "name": "stdout",
     "output_type": "stream",
     "text": [
      "one;438\n",
      "dorian;421\n",
      "would;308\n",
      "lord;248\n",
      "henry;236\n",
      "life;232\n",
      "like;213\n",
      "gray;206\n",
      "man;180\n",
      "harry;178\n",
      "know;177\n",
      "never;176\n",
      "must;164\n",
      "basil;158\n",
      "could;137\n"
     ]
    }
   ],
   "source": [
    "# what else would be interesting to look at? show freqdist by word with count\n",
    "\n",
    "for word, frequency in freqdist.most_common(15):\n",
    "    print(u'{};{}'.format(word, frequency))"
   ]
  },
  {
   "cell_type": "code",
   "execution_count": 9,
   "metadata": {
    "collapsed": false
   },
   "outputs": [
    {
     "name": "stdout",
     "output_type": "stream",
     "text": [
      "83767\n"
     ]
    }
   ],
   "source": [
    "# Some other basics...\n",
    "\n",
    "# Number of words\n",
    "print(len(words))"
   ]
  },
  {
   "cell_type": "code",
   "execution_count": 10,
   "metadata": {
    "collapsed": false
   },
   "outputs": [
    {
     "name": "stdout",
     "output_type": "stream",
     "text": [
      "38988\n"
     ]
    }
   ],
   "source": [
    "# Number of 'use' words (filters out stop words)\n",
    "print(len(use_words))"
   ]
  },
  {
   "cell_type": "code",
   "execution_count": 11,
   "metadata": {
    "collapsed": false
   },
   "outputs": [
    {
     "name": "stdout",
     "output_type": "stream",
     "text": [
      "335.068\n",
      "5.584466666666667\n"
     ]
    }
   ],
   "source": [
    "# How long would it take to read TCOMC with an average reading speed?\n",
    "\n",
    "# Minutes to read assuming 250 WPM reading speed\n",
    "mins_to_read = (len(words)/250)\n",
    "print(mins_to_read)\n",
    "\n",
    "# Converting to days, hours\n",
    "hours_to_read = mins_to_read/60\n",
    "print(hours_to_read)"
   ]
  }
 ],
 "metadata": {
  "kernelspec": {
   "display_name": "Python 3",
   "language": "python",
   "name": "python3"
  },
  "language_info": {
   "codemirror_mode": {
    "name": "ipython",
    "version": 3
   },
   "file_extension": ".py",
   "mimetype": "text/x-python",
   "name": "python",
   "nbconvert_exporter": "python",
   "pygments_lexer": "ipython3",
   "version": "3.6.0"
  }
 },
 "nbformat": 4,
 "nbformat_minor": 2
}
